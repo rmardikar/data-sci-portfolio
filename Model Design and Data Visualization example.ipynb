{
 "cells": [
  {
   "cell_type": "markdown",
   "id": "cd11da2a",
   "metadata": {},
   "source": [
    "# Model design and Data Visualization\n",
    "\n",
    "Radhika Mardikar"
   ]
  },
  {
   "cell_type": "markdown",
   "id": "b052db7c",
   "metadata": {},
   "source": [
    "# Included Modules and Packages\n",
    "\n",
    "Code cell containing your includes for modules and packages"
   ]
  },
  {
   "cell_type": "code",
   "execution_count": 1,
   "id": "a400eec0",
   "metadata": {},
   "outputs": [],
   "source": [
    "import math\n",
    "import numpy as np\n",
    "import pandas as pd\n",
    "import matplotlib.pyplot as plt\n",
    "%matplotlib inline\n",
    "\n",
    "import psycopg2"
   ]
  },
  {
   "cell_type": "markdown",
   "id": "d954ac75",
   "metadata": {},
   "source": [
    "# Supporting code\n",
    "\n",
    "Code cells containing any supporting code, such as connecting to the database, any functions, etc.  Remember you can use any code from the labs."
   ]
  },
  {
   "cell_type": "code",
   "execution_count": 2,
   "id": "8fa124e7",
   "metadata": {},
   "outputs": [],
   "source": [
    "#\n",
    "# function to run a select query and return rows in a pandas dataframe\n",
    "# pandas puts all numeric values from postgres to float\n",
    "# if it will fit in an integer, change it to integer\n",
    "#\n",
    "\n",
    "def my_select_query_pandas(query, rollback_before_flag, rollback_after_flag):\n",
    "    \"function to run a select query and return rows in a pandas dataframe\"\n",
    "    \n",
    "    if rollback_before_flag:\n",
    "        connection.rollback()\n",
    "    \n",
    "    df = pd.read_sql_query(query, connection)\n",
    "    \n",
    "    if rollback_after_flag:\n",
    "        connection.rollback()\n",
    "    \n",
    "    # fix the float columns that really should be integers\n",
    "    \n",
    "    for column in df:\n",
    "    \n",
    "        if df[column].dtype == \"float64\":\n",
    "\n",
    "            fraction_flag = False\n",
    "\n",
    "            for value in df[column].values:\n",
    "                \n",
    "                if not np.isnan(value):\n",
    "                    if value - math.floor(value) != 0:\n",
    "                        fraction_flag = True\n",
    "\n",
    "            if not fraction_flag:\n",
    "                df[column] = df[column].astype('Int64')\n",
    "    \n",
    "    return(df)\n",
    "    \n",
    "connection = psycopg2.connect(\n",
    "    user = \"\",\n",
    "    password = \"\",\n",
    "    host = \"\",\n",
    "    port = \"\",\n",
    "    database = \"postgres\"\n",
    ")\n",
    "\n",
    "cursor = connection.cursor()"
   ]
  },
  {
   "cell_type": "markdown",
   "id": "10353014",
   "metadata": {},
   "source": [
    "Determining the best customers requires the following steps:\n",
    "\n",
    "1. Count of purchases made by customer\n",
    "2. Frequency of purchases made by customer\n",
    "3. Average dollar amount spent by customer per transaction\n",
    "4. Distance of nearest store to custommer\n",
    "\n",
    "For the sake of this model, we define best customers are those that consistently purchase something from the store over many weeks. A model must be designed to accurately weight all of the factors listed above and this can be done using GridSearch to find the best weights for each of the features. For visualization purposes however, we will show a line graph to visually see if there is a correlation between number of purchases made and the average purchase amount.\n",
    "\n",
    "The query below shows the amount of times a customer has purchased something from the store in the past year and their average spendings. In general, frequent patronage is more valuable then one-time customers, but looking at the average spendings is also useful. We wouldn't want to miss out on any one time very high purchases, however those customers would not be considered our best customers because they are not frequent patrons. \n"
   ]
  },
  {
   "cell_type": "code",
   "execution_count": 3,
   "id": "07d88216",
   "metadata": {},
   "outputs": [
    {
     "data": {
      "text/html": [
       "<div>\n",
       "<style scoped>\n",
       "    .dataframe tbody tr th:only-of-type {\n",
       "        vertical-align: middle;\n",
       "    }\n",
       "\n",
       "    .dataframe tbody tr th {\n",
       "        vertical-align: top;\n",
       "    }\n",
       "\n",
       "    .dataframe thead th {\n",
       "        text-align: right;\n",
       "    }\n",
       "</style>\n",
       "<table border=\"1\" class=\"dataframe\">\n",
       "  <thead>\n",
       "    <tr style=\"text-align: right;\">\n",
       "      <th></th>\n",
       "      <th>number_of_purchases</th>\n",
       "      <th>customer_id</th>\n",
       "      <th>avg_purchase_amount</th>\n",
       "    </tr>\n",
       "  </thead>\n",
       "  <tbody>\n",
       "    <tr>\n",
       "      <th>0</th>\n",
       "      <td>19</td>\n",
       "      <td>20437</td>\n",
       "      <td>99.789474</td>\n",
       "    </tr>\n",
       "    <tr>\n",
       "      <th>1</th>\n",
       "      <td>17</td>\n",
       "      <td>26415</td>\n",
       "      <td>97.411765</td>\n",
       "    </tr>\n",
       "    <tr>\n",
       "      <th>2</th>\n",
       "      <td>24</td>\n",
       "      <td>7221</td>\n",
       "      <td>97.000000</td>\n",
       "    </tr>\n",
       "    <tr>\n",
       "      <th>3</th>\n",
       "      <td>23</td>\n",
       "      <td>6742</td>\n",
       "      <td>96.521739</td>\n",
       "    </tr>\n",
       "    <tr>\n",
       "      <th>4</th>\n",
       "      <td>29</td>\n",
       "      <td>20742</td>\n",
       "      <td>95.172414</td>\n",
       "    </tr>\n",
       "    <tr>\n",
       "      <th>...</th>\n",
       "      <td>...</td>\n",
       "      <td>...</td>\n",
       "      <td>...</td>\n",
       "    </tr>\n",
       "    <tr>\n",
       "      <th>31042</th>\n",
       "      <td>32</td>\n",
       "      <td>17646</td>\n",
       "      <td>41.250000</td>\n",
       "    </tr>\n",
       "    <tr>\n",
       "      <th>31043</th>\n",
       "      <td>46</td>\n",
       "      <td>28241</td>\n",
       "      <td>41.217391</td>\n",
       "    </tr>\n",
       "    <tr>\n",
       "      <th>31044</th>\n",
       "      <td>24</td>\n",
       "      <td>22515</td>\n",
       "      <td>41.000000</td>\n",
       "    </tr>\n",
       "    <tr>\n",
       "      <th>31045</th>\n",
       "      <td>22</td>\n",
       "      <td>961</td>\n",
       "      <td>38.181818</td>\n",
       "    </tr>\n",
       "    <tr>\n",
       "      <th>31046</th>\n",
       "      <td>26</td>\n",
       "      <td>10721</td>\n",
       "      <td>36.461538</td>\n",
       "    </tr>\n",
       "  </tbody>\n",
       "</table>\n",
       "<p>31047 rows × 3 columns</p>\n",
       "</div>"
      ],
      "text/plain": [
       "       number_of_purchases  customer_id  avg_purchase_amount\n",
       "0                       19        20437            99.789474\n",
       "1                       17        26415            97.411765\n",
       "2                       24         7221            97.000000\n",
       "3                       23         6742            96.521739\n",
       "4                       29        20742            95.172414\n",
       "...                    ...          ...                  ...\n",
       "31042                   32        17646            41.250000\n",
       "31043                   46        28241            41.217391\n",
       "31044                   24        22515            41.000000\n",
       "31045                   22          961            38.181818\n",
       "31046                   26        10721            36.461538\n",
       "\n",
       "[31047 rows x 3 columns]"
      ]
     },
     "execution_count": 3,
     "metadata": {},
     "output_type": "execute_result"
    }
   ],
   "source": [
    "rollback_before_flag = True\n",
    "rollback_after_flag = True\n",
    "\n",
    "query = \"\"\"\n",
    "Select count(customer_id) as number_of_purchases, customer_id, avg(total_amount) as avg_purchase_amount\n",
    "from sales\n",
    "group by customer_id\n",
    "order by avg_purchase_amount desc, number_of_purchases desc\n",
    "\"\"\"\n",
    "\n",
    "df = my_select_query_pandas(query, rollback_before_flag, rollback_after_flag)\n",
    "df"
   ]
  },
  {
   "cell_type": "code",
   "execution_count": 4,
   "id": "cbe71785",
   "metadata": {},
   "outputs": [
    {
     "data": {
      "text/plain": [
       "<AxesSubplot:xlabel='Average amount spent per purchase', ylabel='Number of purchases'>"
      ]
     },
     "execution_count": 4,
     "metadata": {},
     "output_type": "execute_result"
    },
    {
     "data": {
      "image/png": "[encoded data removed]",
      "text/plain": [
       "<Figure size 432x288 with 1 Axes>"
      ]
     },
     "metadata": {
      "needs_background": "light"
     },
     "output_type": "display_data"
    }
   ],
   "source": [
    "ax = plt.gca()\n",
    "\n",
    "df.plot(kind='line', x = 'avg_purchase_amount', y = 'number_of_purchases', ax = ax, label = 'correlation', ylabel = 'Number of purchases', xlabel = 'Average amount spent per purchase')"
   ]
  },
  {
   "cell_type": "markdown",
   "id": "3ee220bf",
   "metadata": {},
   "source": [
    "As we can see, the distribution is almost Gaussian with the higher and lower purchase amounts have lower count of sales made. It is apparent here that our best customers lie in the middle of the bell curve spending an average of 60-70 dollars per transaction.\n",
    "\n",
    "From here, we would need to monitor the frequency of purchases (over periods of time), and correlate with the distance the customer has to travel, to determine which out of that middle section of the bell curve are our best customers."
   ]
  },
  {
   "cell_type": "code",
   "execution_count": null,
   "id": "99ce7b66",
   "metadata": {},
   "outputs": [],
   "source": []
  }
 ],
 "metadata": {
  "kernelspec": {
   "display_name": "Python 3 (ipykernel)",
   "language": "python",
   "name": "python3"
  },
  "language_info": {
   "codemirror_mode": {
    "name": "ipython",
    "version": 3
   },
   "file_extension": ".py",
   "mimetype": "text/x-python",
   "name": "python",
   "nbconvert_exporter": "python",
   "pygments_lexer": "ipython3",
   "version": "3.8.8"
  }
 },
 "nbformat": 4,
 "nbformat_minor": 5
}
