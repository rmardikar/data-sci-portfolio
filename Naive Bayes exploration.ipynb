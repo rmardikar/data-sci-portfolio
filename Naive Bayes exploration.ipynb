{
 "cells": [
  {
   "cell_type": "markdown",
   "metadata": {
    "id": "oy2farvgowaS"
   },
   "source": [
    "# Topic Classification using Naive Bayes\n",
    "Radhika Mardikar\n"
   ]
  },
  {
   "cell_type": "code",
   "execution_count": 35,
   "metadata": {
    "executionInfo": {
     "elapsed": 328,
     "status": "ok",
     "timestamp": 1645840416455,
     "user": {
      "displayName": "Radhika Mardikar",
      "photoUrl": "https://lh3.googleusercontent.com/a/default-user=s64",
      "userId": "07356988799973131543"
     },
     "user_tz": 480
    },
    "id": "ADte5AmHqTrF"
   },
   "outputs": [],
   "source": [
    "# This tells matplotlib not to try opening a new window for each plot.\n",
    "%matplotlib inline\n",
    "\n",
    "# General libraries.\n",
    "import re\n",
    "import numpy as np\n",
    "import pandas as pd\n",
    "import matplotlib.pyplot as plt\n",
    "\n",
    "# SK-learn libraries for learning.\n",
    "from sklearn.pipeline import Pipeline\n",
    "from sklearn.neighbors import KNeighborsClassifier\n",
    "from sklearn.linear_model import LogisticRegression\n",
    "from sklearn.naive_bayes import BernoulliNB\n",
    "from sklearn.naive_bayes import MultinomialNB\n",
    "\n",
    "# SK-learn libraries for evaluation.\n",
    "from sklearn.metrics import confusion_matrix\n",
    "from sklearn import metrics\n",
    "from sklearn.metrics import classification_report\n",
    "\n",
    "# SK-learn library for importing the newsgroup data.\n",
    "from sklearn.datasets import fetch_20newsgroups\n",
    "\n",
    "# SK-learn libraries for feature extraction from text.\n",
    "from sklearn.feature_extraction.text import *\n",
    "\n",
    "import nltk"
   ]
  },
  {
   "cell_type": "code",
   "execution_count": 36,
   "metadata": {
    "colab": {
     "base_uri": "https://localhost:8080/"
    },
    "executionInfo": {
     "elapsed": 2293,
     "status": "ok",
     "timestamp": 1645840419694,
     "user": {
      "displayName": "Radhika Mardikar",
      "photoUrl": "https://lh3.googleusercontent.com/a/default-user=s64",
      "userId": "07356988799973131543"
     },
     "user_tz": 480
    },
    "id": "CxogPIN6qbeR",
    "outputId": "899adc48-826c-47a3-e694-474d30afaf06"
   },
   "outputs": [
    {
     "name": "stdout",
     "output_type": "stream",
     "text": [
      "training label shape: (2034,)\n",
      "dev label shape: (676,)\n",
      "test label shape: (677,)\n",
      "labels names: ['alt.atheism', 'comp.graphics', 'sci.space', 'talk.religion.misc']\n"
     ]
    }
   ],
   "source": [
    "categories = ['alt.atheism', 'talk.religion.misc', 'comp.graphics', 'sci.space']\n",
    "newsgroups_train = fetch_20newsgroups(subset='train',\n",
    "                                      remove=('headers', 'footers', 'quotes'),\n",
    "                                      categories=categories)\n",
    "newsgroups_test  = fetch_20newsgroups(subset='test',\n",
    "                                      remove=('headers', 'footers', 'quotes'),\n",
    "                                      categories=categories)\n",
    "\n",
    "num_test = int(len(newsgroups_test.target) / 2)\n",
    "test_data, test_labels   = newsgroups_test.data[num_test:], newsgroups_test.target[num_test:]\n",
    "dev_data, dev_labels     = newsgroups_test.data[:num_test], newsgroups_test.target[:num_test]\n",
    "train_data, train_labels = newsgroups_train.data, newsgroups_train.target\n",
    "\n",
    "print('training label shape:', train_labels.shape)\n",
    "print('dev label shape:',      dev_labels.shape)\n",
    "print('test label shape:',     test_labels.shape)\n",
    "print('labels names:',         newsgroups_train.target_names)"
   ]
  },
  {
   "cell_type": "markdown",
   "metadata": {
    "id": "zYH1G7E1qjL5"
   },
   "source": [
    "# Examining the data\n"
   ]
  },
  {
   "cell_type": "code",
   "execution_count": 37,
   "metadata": {
    "colab": {
     "base_uri": "https://localhost:8080/"
    },
    "executionInfo": {
     "elapsed": 8,
     "status": "ok",
     "timestamp": 1645840419695,
     "user": {
      "displayName": "Radhika Mardikar",
      "photoUrl": "https://lh3.googleusercontent.com/a/default-user=s64",
      "userId": "07356988799973131543"
     },
     "user_tz": 480
    },
    "id": "hjAaHw0AqgCu",
    "outputId": "45aa59e0-1c25-429c-b270-3e6bfa17be11"
   },
   "outputs": [
    {
     "name": "stdout",
     "output_type": "stream",
     "text": [
      "Label for message  1  is  comp.graphics\n",
      "Hi,\n",
      "\n",
      "I've noticed that if you only save a model (with all your mapping planes\n",
      "positioned carefully) to a .3DS file that when you reload it after restarting\n",
      "3DS, they are given a default position and orientation.  But if you save\n",
      "to a .PRJ file their positions/orientation are preserved.  Does anyone\n",
      "know why this information is not stored in the .3DS file?  Nothing is\n",
      "explicitly said in the manual about saving texture rules in the .PRJ file. \n",
      "I'd like to be able to read the texture rule information, does anyone have \n",
      "the format for the .PRJ file?\n",
      "\n",
      "Is the .CEL file format available from somewhere?\n",
      "\n",
      "Rych\n",
      "\n",
      "Label for message  2  is  talk.religion.misc\n",
      "\n",
      "\n",
      "Seems to be, barring evidence to the contrary, that Koresh was simply\n",
      "another deranged fanatic who thought it neccessary to take a whole bunch of\n",
      "folks with him, children and all, to satisfy his delusional mania. Jim\n",
      "Jones, circa 1993.\n",
      "\n",
      "\n",
      "Nope - fruitcakes like Koresh have been demonstrating such evil corruption\n",
      "for centuries.\n",
      "\n",
      "Label for message  3  is  sci.space\n",
      "\n",
      " >In article <1993Apr19.020359.26996@sq.sq.com>, msb@sq.sq.com (Mark Brader) \n",
      "\n",
      "MB>                                                             So the\n",
      "MB> 1970 figure seems unlikely to actually be anything but a perijove.\n",
      "\n",
      "JG>Sorry, _perijoves_...I'm not used to talking this language.\n",
      "\n",
      "Couldn't we just say periapsis or apoapsis?\n",
      "\n",
      " \n",
      "\n",
      "Label for message  4  is  alt.atheism\n",
      "I have a request for those who would like to see Charley Wingate\n",
      "respond to the \"Charley Challenges\" (and judging from my e-mail, there\n",
      "appear to be quite a few of you.)  \n",
      "\n",
      "It is clear that Mr. Wingate intends to continue to post tangential or\n",
      "unrelated articles while ingoring the Challenges themselves.  Between\n",
      "the last two re-postings of the Challenges, I noted perhaps a dozen or\n",
      "more posts by Mr. Wingate, none of which answered a single Challenge.  \n",
      "\n",
      "It seems unmistakable to me that Mr. Wingate hopes that the questions\n",
      "will just go away, and he is doing his level best to change the\n",
      "subject.  Given that this seems a rather common net.theist tactic, I\n",
      "would like to suggest that we impress upon him our desire for answers,\n",
      "in the following manner:\n",
      "\n",
      "1. Ignore any future articles by Mr. Wingate that do not address the\n",
      "Challenges, until he answers them or explictly announces that he\n",
      "refuses to do so.\n",
      "\n",
      "--or--\n",
      "\n",
      "2. If you must respond to one of his articles, include within it\n",
      "something similar to the following:\n",
      "\n",
      "    \"Please answer the questions posed to you in the Charley Challenges.\"\n",
      "\n",
      "Really, I'm not looking to humiliate anyone here, I just want some\n",
      "honest answers.  You wouldn't think that honesty would be too much to\n",
      "ask from a devout Christian, would you?  \n",
      "\n",
      "Nevermind, that was a rhetorical question.\n",
      "\n",
      "Label for message  5  is  sci.space\n",
      "AW&ST  had a brief blurb on a Manned Lunar Exploration confernce\n",
      "May 7th  at Crystal City Virginia, under the auspices of AIAA.\n",
      "\n",
      "Does anyone know more about this?  How much, to attend????\n",
      "\n",
      "Anyone want to go?\n",
      "\n"
     ]
    }
   ],
   "source": [
    "def examine(num_examples=5):\n",
    "    for i in range(num_examples):\n",
    "      print('Label for message ', i+1, ' is ', newsgroups_train.target_names[train_labels[i]])\n",
    "      print(train_data[i])\n",
    "      print()\n",
    "\n",
    "examine(5)"
   ]
  },
  {
   "cell_type": "markdown",
   "metadata": {
    "id": "kWF1Z-XYtNqX"
   },
   "source": [
    "# Text representation – transformation"
   ]
  },
  {
   "cell_type": "code",
   "execution_count": 38,
   "metadata": {
    "colab": {
     "base_uri": "https://localhost:8080/"
    },
    "executionInfo": {
     "elapsed": 15466,
     "status": "ok",
     "timestamp": 1645840436301,
     "user": {
      "displayName": "Radhika Mardikar",
      "photoUrl": "https://lh3.googleusercontent.com/a/default-user=s64",
      "userId": "07356988799973131543"
     },
     "user_tz": 480
    },
    "id": "9X5kQlCKr2Oc",
    "outputId": "d18855ad-06ee-476d-ee76-1ac0b2d8fdff"
   },
   "outputs": [
    {
     "name": "stdout",
     "output_type": "stream",
     "text": [
      "Part 1\n",
      "Size of vocabulary is  26879\n",
      "Average number of non-zero features per example  96.70599803343165\n",
      "Fraction of non-zero entries in the matrix  0.0035978272269590263\n",
      "First and last feature names are  00   zyxel\n",
      "\n",
      "Part 2\n",
      "Size of vocabulary is  4\n",
      "Average number of non-zero features per example  0.26843657817109146\n",
      "\n",
      "Part 3\n",
      "Size of vocabulary is  35478\n",
      "\n",
      "Part 4\n",
      "Size of vocabulary is  3064\n",
      "\n",
      "Part 5\n",
      "Fraction of words in dev vocab but not in train vocab is  0.24787640034470024\n"
     ]
    }
   ],
   "source": [
    "def transform():\n",
    "    vectorizer1 = CountVectorizer()\n",
    "    x1 = vectorizer1.fit_transform(train_data)\n",
    "    print(\"Part 1\")\n",
    "    print(\"Size of vocabulary is \", x1.shape[1])\n",
    "    print(\"Average number of non-zero features per example \", sum(x1.getnnz(1))/(x1.shape[0]))\n",
    "    print(\"Fraction of non-zero entries in the matrix \", sum(x1.getnnz(1))/(x1.shape[0] * x1.shape[1]))\n",
    "    print(\"First and last feature names are \", vectorizer1.get_feature_names_out()[0], ' ', vectorizer1.get_feature_names_out()[-1])\n",
    "\n",
    "    print()\n",
    "    print(\"Part 2\")\n",
    "    vectorizer2 = CountVectorizer(vocabulary = [\"atheism\", \"graphics\", \"space\", \"religion\"])\n",
    "    x2 = vectorizer2.fit_transform(train_data)\n",
    "    print(\"Size of vocabulary is \", x2.shape[1])\n",
    "    print(\"Average number of non-zero features per example \", sum(x2.getnnz(1))/(x2.shape[0]))\n",
    "\n",
    "    print()\n",
    "    print(\"Part 3\")\n",
    "    vectorizer3 = CountVectorizer(analyzer = 'char', ngram_range=(2,3))\n",
    "    x3 = vectorizer3.fit_transform(train_data)\n",
    "    print(\"Size of vocabulary is \", x3.shape[1])\n",
    "\n",
    "    print()\n",
    "    print(\"Part 4\")\n",
    "    vectorizer4 = CountVectorizer(min_df = 10)\n",
    "    x4 = vectorizer4.fit_transform(train_data)\n",
    "    print(\"Size of vocabulary is \", x4.shape[1])\n",
    "\n",
    "    print()\n",
    "    print(\"Part 5\")\n",
    "    vectorizer5 = CountVectorizer()\n",
    "    vectorizer6 = CountVectorizer()\n",
    "    x5 = vectorizer5.fit_transform(train_data)\n",
    "    x6 = vectorizer6.fit_transform(dev_data)\n",
    "    dev_features = vectorizer6.get_feature_names_out()\n",
    "    train_features = vectorizer5.get_feature_names_out()\n",
    "    \n",
    "    count = 0\n",
    "    for i in dev_features:\n",
    "      if i not in train_features:\n",
    "        count += 1\n",
    "    \n",
    "    print(\"Fraction of words in dev vocab but not in train vocab is \", count/len(dev_features))\n",
    "    \n",
    "\n",
    "transform()"
   ]
  },
  {
   "cell_type": "markdown",
   "metadata": {
    "id": "u1VzlZEZoH1X"
   },
   "source": [
    "# Initial model evaluation"
   ]
  },
  {
   "cell_type": "code",
   "execution_count": 39,
   "metadata": {
    "colab": {
     "base_uri": "https://localhost:8080/"
    },
    "executionInfo": {
     "elapsed": 6124,
     "status": "ok",
     "timestamp": 1645840442407,
     "user": {
      "displayName": "Radhika Mardikar",
      "photoUrl": "https://lh3.googleusercontent.com/a/default-user=s64",
      "userId": "07356988799973131543"
     },
     "user_tz": 480
    },
    "id": "pezcNzYMwN3X",
    "outputId": "d293a687-e394-46ea-ab04-541fd5a9368f"
   },
   "outputs": [
    {
     "name": "stdout",
     "output_type": "stream",
     "text": [
      "1  Neighbors model has an F1 score of  0.3805030018531525\n",
      "3  Neighbors model has an F1 score of  0.4084150225437623\n",
      "5  Neighbors model has an F1 score of  0.4287607236218357\n",
      "7  Neighbors model has an F1 score of  0.45047910006117586\n",
      "9  Neighbors model has an F1 score of  0.4365666176198027\n",
      "11  Neighbors model has an F1 score of  0.4266108018696209\n",
      "13  Neighbors model has an F1 score of  0.42404338833763805\n",
      "15  Neighbors model has an F1 score of  0.4326339805547054\n",
      "Most optimized k value with regards to F1 score is 7.\n",
      "\n",
      "Alpha value of  1e-06  has an F1 score of  0.7515918405181448\n",
      "Alpha value of  1e-05  has an F1 score of  0.7533492167780379\n",
      "Alpha value of  0.001  has an F1 score of  0.7702518836155706\n",
      "Alpha value of  0.1  has an F1 score of  0.7903052385098862\n",
      "Alpha value of  1  has an F1 score of  0.7777320236017224\n",
      "Alpha value of  10  has an F1 score of  0.6674814338256576\n",
      "Alpha value of  20  has an F1 score of  0.6344096294200738\n",
      "Most optimized alpha value with regards to F1 score is 0.1\n",
      "\n",
      "L2 regularization strength value of  0.001  has an F1 score of  0.6193046812006844\n",
      "Sum of squared weights for each topic  [0.00013920002734245395, 0.0002683043164519176, 1.7436872525990806e-06, 6.9747490103963225e-06]\n",
      "L2 regularization strength value of  0.01  has an F1 score of  0.6646997417582748\n",
      "Sum of squared weights for each topic  [0.0011863528460473323, 0.0013113603625683765, 3.9216222190013125e-05, 0.0001568648887600525]\n",
      "L2 regularization strength value of  0.1  has an F1 score of  0.6966243542418833\n",
      "Sum of squared weights for each topic  [0.010556775793041092, 0.0068823564049793, 9.032039475132382e-05, 0.0003612815790052953]\n",
      "L2 regularization strength value of  1  has an F1 score of  0.6944172871853819\n",
      "Sum of squared weights for each topic  [0.049385973585394274, 0.027399806374829385, 9.607283620576655e-05, 0.0003842913448230662]\n",
      "L2 regularization strength value of  10  has an F1 score of  0.6865669233056786\n",
      "Sum of squared weights for each topic  [0.13997905369871838, 0.07068398833771906, 0.00023189582494055353, 0.0009275832997622141]\n",
      "L2 regularization strength value of  100  has an F1 score of  0.6823892102438561\n",
      "Sum of squared weights for each topic  [0.36452798707201806, 0.15391288296781186, 0.0004719526822827406, 0.0018878107291309624]\n"
     ]
    }
   ],
   "source": [
    "def tester():\n",
    "  vec1 = CountVectorizer()\n",
    "  train_x = vec1.fit_transform(train_data)\n",
    "  dev_x = vec1.transform(dev_data)\n",
    "  \n",
    "  #kNN model building\n",
    "  k = [1, 3, 5, 7, 9, 11, 13, 15]\n",
    "  for i in k:\n",
    "    model = KNeighborsClassifier(n_neighbors = i)\n",
    "    model.fit(train_x, train_labels)\n",
    "    print(i, ' Neighbors model has an F1 score of ', metrics.f1_score(dev_labels, model.predict(dev_x), average='weighted'))\n",
    "  \n",
    "  print(\"Most optimized k value with regards to F1 score is 7.\")\n",
    "  print()\n",
    "  \n",
    "  #Naive Bayes model building\n",
    "  alphas = [0.000001, 0.00001, 0.001, 0.1, 1, 10, 20]\n",
    "  for j in alphas:\n",
    "    model1 = MultinomialNB(alpha = j)\n",
    "    model1.fit(train_x, train_labels)\n",
    "    print('Alpha value of ', j,' has an F1 score of ', metrics.f1_score(dev_labels, model1.predict(dev_x), average='weighted'))\n",
    "  \n",
    "  print(\"Most optimized alpha value with regards to F1 score is 0.1\")\n",
    "  print()\n",
    "\n",
    "  #Logistic Regression model building\n",
    "  C = [0.001, 0.01, 0.1, 1, 10, 100]\n",
    "  for k in C:\n",
    "    model2 = LogisticRegression(C=k, solver = 'liblinear', multi_class = 'auto')\n",
    "    model2.fit(train_x, train_labels)\n",
    "    print('L2 regularization strength value of ', k,' has an F1 score of ', metrics.f1_score(dev_labels, model2.predict(dev_x), average='weighted'))\n",
    "    squarelist = []\n",
    "    for i in range((model2.coef_).shape[0]):\n",
    "      summ = sum(model2.coef_[:,i] **2)\n",
    "      squarelist.append(summ)\n",
    "\n",
    "    print('Sum of squared weights for each topic ', squarelist)\n",
    "  \n",
    "\n",
    "tester()"
   ]
  },
  {
   "cell_type": "markdown",
   "metadata": {
    "id": "_gNghHV6MrM_"
   },
   "source": [
    "1. K-nearest neighbors doesn't work too well here because there is very high dimensionality (too many features). Additionally, the distance metric doesn't really make sense for this type of problem, we'd probably have to experiment with a different distance evaluation metric. \n",
    "2. Having a larger feature set helps to fit more of the Naive Bayes criteria (independence between features) so that's why Naive Bayes is outperforming Logistic Regression in this case. If we had a larger sample set, we should expect to see better performance from the logistic models.\n",
    "3. The C value is the inverse of the regularization parameter so it should be positively correlated with the sum of squared weights. This means that a higher C score would mean a lower penalty and therefore a higher sum of squared weights."
   ]
  },
  {
   "cell_type": "markdown",
   "metadata": {
    "id": "FB8G6lPlOwD2"
   },
   "source": [
    "# Feature exploration"
   ]
  },
  {
   "cell_type": "code",
   "execution_count": 40,
   "metadata": {
    "colab": {
     "base_uri": "https://localhost:8080/"
    },
    "executionInfo": {
     "elapsed": 4136,
     "status": "ok",
     "timestamp": 1645840446536,
     "user": {
      "displayName": "Radhika Mardikar",
      "photoUrl": "https://lh3.googleusercontent.com/a/default-user=s64",
      "userId": "07356988799973131543"
     },
     "user_tz": 480
    },
    "id": "nD-rQueFqBCK",
    "outputId": "ea5cc1a1-8cef-4844-e282-64d2bf80bcf6"
   },
   "outputs": [
    {
     "name": "stdout",
     "output_type": "stream",
     "text": [
      "alt.atheism\n",
      "['claim that' 'cheers kent' 'was just' 'you are' 'are you']\n",
      "comp.graphics\n",
      "['looking for' 'in advance' 'comp graphics' 'out there' 'is there']\n",
      "sci.space\n",
      "['the space' 'the moon' 'sci space' 'and such' 'it was']\n",
      "talk.religion.misc\n",
      "['the fbi' 'cheers kent' 'ignorance is' 'but he' 'of jesus']\n",
      "\n",
      "Table for weights of selected features across all topics\n",
      "                0            1              2          3                   4\n",
      "0               0  alt.atheism  comp.graphics  sci.space  talk.religion.misc\n",
      "1      claim that     0.605549      -0.199067  -0.274345           -0.140364\n",
      "2     cheers kent      0.55572      -0.697918  -0.663766            0.534808\n",
      "3        was just      0.48205      -0.131418  -0.128882           -0.227469\n",
      "4         you are      0.47274      -0.279894  -0.481305            0.028373\n",
      "5         are you     0.446953      -0.248257  -0.097135           -0.305625\n",
      "6     looking for    -0.630341       1.108375   -0.50005           -0.571869\n",
      "7      in advance    -0.459351       0.832567  -0.438501           -0.418453\n",
      "8   comp graphics    -0.292166       0.801208  -0.370885           -0.285186\n",
      "9       out there    -0.274803       0.758658  -0.479057           -0.277089\n",
      "10       is there    -0.340882       0.754998  -0.468249           -0.257079\n",
      "11      the space    -0.268187      -0.530067   0.871114           -0.273845\n",
      "12       the moon    -0.350563      -0.492747   0.831085             -0.2138\n",
      "13      sci space    -0.258008      -0.329172   0.621087           -0.221245\n",
      "14       and such    -0.204269      -0.337509   0.590524           -0.218202\n",
      "15         it was    -0.203029      -0.309687   0.525362           -0.313552\n",
      "16        the fbi    -0.131974      -0.211363  -0.295286             0.55199\n",
      "17    cheers kent      0.55572      -0.697918  -0.663766            0.534808\n",
      "18   ignorance is    -0.158011      -0.171075   -0.13958            0.504305\n",
      "19         but he    -0.190019      -0.216871  -0.137402            0.491875\n",
      "20       of jesus     -0.09191      -0.173769  -0.212417            0.423755\n"
     ]
    }
   ],
   "source": [
    "def explorer():\n",
    "    vec = CountVectorizer(ngram_range=(2,2))\n",
    "    xtrain = vec.fit_transform(train_data)\n",
    "    logreg = LogisticRegression(C=0.5, solver='liblinear', multi_class='auto')\n",
    "    logreg.fit(xtrain, train_labels)\n",
    "    words = vec.get_feature_names_out()\n",
    "\n",
    "    #finding features with largest weight by topic\n",
    "    table = np.zeros((4,5), dtype=object)\n",
    "    indexlist = []\n",
    "    for i in range(len(newsgroups_train.target_names)):\n",
    "      print(newsgroups_train.target_names[i])\n",
    "      values = logreg.coef_[i,]\n",
    "      values = np.argsort(values)\n",
    "      sortedvalues = values[-5:][::-1]\n",
    "      indexlist.append(sortedvalues)\n",
    "      for j in range(len(sortedvalues)):\n",
    "        table[i,j] = words[sortedvalues[j]]\n",
    "      print(table[i,:]) \n",
    "    \n",
    "    print()\n",
    "    #finding weight for each feature in each topic\n",
    "    indexlistflat = [index for smalllist in indexlist for index in smalllist]\n",
    "    features = table.flatten()\n",
    "    weights = np.zeros((features.shape[0]+1, 5), dtype=object)\n",
    "\n",
    "    for i in range(len(features)):\n",
    "      weights[i+1, 0] = features[i]\n",
    "    for j in range(4):\n",
    "      weights[0, j+1] = newsgroups_train.target_names[j]\n",
    "    \n",
    "    for k in range(len(features)):\n",
    "      for l in range(len(newsgroups_train.target_names)):\n",
    "        weights[k+1, l+1] = logreg.coef_[l, indexlistflat[k]]\n",
    "      \n",
    "    print(\"Table for weights of selected features across all topics\")   \n",
    "    df = pd.DataFrame(weights)\n",
    "    print(df.head(30))\n",
    "\n",
    "explorer()"
   ]
  },
  {
   "cell_type": "markdown",
   "metadata": {
    "id": "5Puf2JXCantz"
   },
   "source": [
    "What's interesting here is some of the features with heavy weights in the alt.altheism topic also had some positive weights in the talk.religion.misc. The feature \"cheers kent\" is quite popular in particular, and likely requires some more digging as to figuring out context/underlying data. It is interesting that \"the fbi\" is so popular in the talk.religion.misc topic."
   ]
  },
  {
   "cell_type": "markdown",
   "metadata": {
    "id": "DXhI5M1PbOmh"
   },
   "source": [
    "# Pre-processing for text – try to make performance better"
   ]
  },
  {
   "cell_type": "code",
   "execution_count": 42,
   "metadata": {
    "colab": {
     "base_uri": "https://localhost:8080/"
    },
    "executionInfo": {
     "elapsed": 2801,
     "status": "ok",
     "timestamp": 1645840478583,
     "user": {
      "displayName": "Radhika Mardikar",
      "photoUrl": "https://lh3.googleusercontent.com/a/default-user=s64",
      "userId": "07356988799973131543"
     },
     "user_tz": 480
    },
    "id": "hNdIkN9XPxpT",
    "outputId": "8191cb52-734e-4232-99e8-2b37bb2ee5c3"
   },
   "outputs": [
    {
     "name": "stdout",
     "output_type": "stream",
     "text": [
      "Vocabulary size without processing is  33291\n",
      "F1 score is  0.7069109185493502\n",
      "Vocabulary size with processing is  26920\n",
      "F1 score is  0.7286975609516704\n",
      "\n",
      "Improved the score by  0.0217866424023202\n"
     ]
    }
   ],
   "source": [
    "def preprocess():\n",
    "\n",
    "  #Initial logreg model\n",
    "  vec1 = CountVectorizer(lowercase = False)\n",
    "  xtrain1 = vec1.fit_transform(train_data)\n",
    "  devdata1 = vec1.transform(dev_data)\n",
    "  logreg1 = LogisticRegression(C=0.5, solver='liblinear', multi_class='auto')\n",
    "  logreg1.fit(xtrain1, train_labels)\n",
    "  pred = logreg1.predict(devdata1)\n",
    "  f1score = metrics.f1_score(dev_labels, pred, average = 'weighted')\n",
    "  print(\"Vocabulary size without processing is \", len(vec1.get_feature_names_out()))\n",
    "  print(\"F1 score is \", f1score)\n",
    "\n",
    "  #Improved logreg model\n",
    "  \n",
    "  train_data1 = train_data.copy()\n",
    "  train_data1 = punc_remover(train_data1)\n",
    "  vec2 = CountVectorizer(strip_accents = 'ascii', stop_words = 'english')\n",
    "  xtrain2 = vec2.fit_transform(train_data1)\n",
    "  devdata2 = vec2.transform(dev_data)\n",
    "  logreg2 = LogisticRegression(C=0.5, solver ='liblinear', multi_class ='auto')\n",
    "  logreg2.fit(xtrain2, train_labels)\n",
    "  pred1 = logreg2.predict(devdata2)\n",
    "  print(\"Vocabulary size with processing is \", len(vec2.get_feature_names_out()))\n",
    "  f1scoreimp = metrics.f1_score(dev_labels, pred1, average = 'weighted')\n",
    "  print(\"F1 score is \", f1scoreimp)\n",
    "  print()\n",
    "  print(\"Improved the score by \", f1scoreimp - f1score)\n",
    "\n",
    "def punc_remover(train_data):\n",
    "  for x in range(len(train_data)):  \n",
    "    train_data[x] = re.sub(\"'\", \"\", train_data[x] )\n",
    "  return train_data\n",
    "\n",
    "preprocess()"
   ]
  },
  {
   "cell_type": "markdown",
   "metadata": {
    "id": "JnvrBNKtjHS0"
   },
   "source": [
    "#  L1 and L2 regularization"
   ]
  },
  {
   "cell_type": "code",
   "execution_count": 8,
   "metadata": {
    "colab": {
     "base_uri": "https://localhost:8080/",
     "height": 743
    },
    "executionInfo": {
     "elapsed": 4349,
     "status": "ok",
     "timestamp": 1645836285847,
     "user": {
      "displayName": "Radhika Mardikar",
      "photoUrl": "https://lh3.googleusercontent.com/a/default-user=s64",
      "userId": "07356988799973131543"
     },
     "user_tz": 480
    },
    "id": "ji8JamT4jqW2",
    "outputId": "0ec22de0-7b37-4d9a-9afd-2221d7ce1847"
   },
   "outputs": [
    {
     "name": "stdout",
     "output_type": "stream",
     "text": [
      "L1 regularization strength value of  0.01  has an F1 score of  0.4229857798485922\n",
      "Vocabulary size is  17\n",
      "L2 regularization strength value of 0.5 has an F1 score of  0.4678284761184072\n",
      "\n",
      "L1 regularization strength value of  0.1  has an F1 score of  0.6460189361990095\n",
      "Vocabulary size is  212\n",
      "L2 regularization strength value of 0.5 has an F1 score of  0.6959644893832598\n",
      "\n",
      "L1 regularization strength value of  1  has an F1 score of  0.6992547878197551\n",
      "Vocabulary size is  1141\n",
      "L2 regularization strength value of 0.5 has an F1 score of  0.6894886547912301\n",
      "\n",
      "L1 regularization strength value of  10  has an F1 score of  0.6446410472049926\n",
      "Vocabulary size is  3368\n",
      "L2 regularization strength value of 0.5 has an F1 score of  0.709982787162527\n",
      "\n",
      "L1 regularization strength value of  100  has an F1 score of  0.624737118450447\n",
      "Vocabulary size is  7692\n",
      "L2 regularization strength value of 0.5 has an F1 score of  0.7043276696358259\n",
      "\n",
      "L1 regularization strength value of  1000  has an F1 score of  0.5868535809864783\n",
      "Vocabulary size is  25354\n",
      "L2 regularization strength value of 0.5 has an F1 score of  0.6931616215307925\n",
      "\n",
      "With original full size vocabulary of size  26879\n",
      "L2 regularization strength value of 0.5 has an F1 score of  0.7022781839022015\n"
     ]
    },
    {
     "data": {
      "image/png": "[encoded data removed]",
      "text/plain": [
       "<Figure size 432x288 with 1 Axes>"
      ]
     },
     "metadata": {
      "needs_background": "light"
     },
     "output_type": "display_data"
    }
   ],
   "source": [
    "def regularizer():\n",
    "    # Keep this random seed here to make comparison easier.\n",
    "    np.random.seed(0)\n",
    "    \n",
    "    vec1 = CountVectorizer()\n",
    "    xtrain1 = vec1.fit_transform(train_data)\n",
    "    xdev1 = vec1.transform(dev_data)\n",
    "\n",
    "    C = [0.01, 0.1, 1, 10, 100, 1000]\n",
    "    vocabsize = []\n",
    "    f1score = []\n",
    "    indexlist = []\n",
    "    for k in C:\n",
    "      model1 = LogisticRegression(C=k, solver = 'liblinear', multi_class = 'auto', penalty = 'l1', tol = 0.015)\n",
    "      model1.fit(xtrain1, train_labels)\n",
    "      print('L1 regularization strength value of ', k,' has an F1 score of ', metrics.f1_score(dev_labels, model1.predict(xdev1), average='weighted'))\n",
    "      indexlist = {}\n",
    "      vocab = (vec1.get_feature_names_out())\n",
    "      \n",
    "      for r in range( len(vocab)):\n",
    "        indexlist[r] = 0\n",
    "     \n",
    "      \n",
    "      for i in range(model1.coef_.shape[0]):\n",
    "        for j in range(model1.coef_.shape[1]):\n",
    "          if model1.coef_[i,j] == 0:\n",
    "            indexlist[j] += 1\n",
    "      \n",
    "      newvocab = []\n",
    "      for s in range(len(indexlist)):\n",
    "        if indexlist[s] < 4:\n",
    "          newvocab.append(s)\n",
    "\n",
    "      update = vocab[newvocab]\n",
    "      vocabsize.append(len(update))\n",
    "      print(\"Vocabulary size is \", len(update))\n",
    "      model2 = LogisticRegression(penalty = 'l2', C = 0.5, tol = 0.015, solver=\"liblinear\")\n",
    "      model2.fit(xtrain1[:, newvocab], train_labels)\n",
    "      print('L2 regularization strength value of 0.5 has an F1 score of ', metrics.f1_score(dev_labels, model2.predict(xdev1[:,newvocab]), average='weighted'))\n",
    "      f1score.append(metrics.f1_score(dev_labels, model2.predict(xdev1[:, newvocab]), average='weighted'))\n",
    "\n",
    "      print()\n",
    "\n",
    "    \n",
    "    print(\"With original full size vocabulary of size \", len(vec1.get_feature_names_out()))\n",
    "    model3 = LogisticRegression(penalty = 'l2', C = 0.5, tol = 0.015, solver=\"liblinear\")\n",
    "    model3.fit(xtrain1, train_labels)\n",
    "    vocabsize.append(len(vec1.get_feature_names_out()))\n",
    "    print('L2 regularization strength value of 0.5 has an F1 score of ', metrics.f1_score(dev_labels, model3.predict(xdev1), average='weighted'))\n",
    "    f1score.append(metrics.f1_score(dev_labels, model3.predict(xdev1), average='weighted'))\n",
    "\n",
    "    plt.plot(np.log10(vocabsize), f1score)\n",
    "    plt.xlabel('Log of vocabulary size')\n",
    "    plt.ylabel('F1 Score')\n",
    "    plt.show()\n",
    "\n",
    "\n",
    "\n",
    "regularizer()"
   ]
  },
  {
   "cell_type": "markdown",
   "metadata": {
    "id": "ifUEjJNKimMo"
   },
   "source": [
    "The reduced vocabulary sizes have around the same performance as the full size vocabulary with L2 regression. It is not significantly better (F1-Score wise) however, it is likely to be computationally less expensive to use a model with fewer features."
   ]
  },
  {
   "cell_type": "markdown",
   "metadata": {
    "id": "2zMHfX8ki7LO"
   },
   "source": [
    "# TfIdf"
   ]
  },
  {
   "cell_type": "code",
   "execution_count": 43,
   "metadata": {
    "colab": {
     "base_uri": "https://localhost:8080/"
    },
    "executionInfo": {
     "elapsed": 1532,
     "status": "ok",
     "timestamp": 1645840579233,
     "user": {
      "displayName": "Radhika Mardikar",
      "photoUrl": "https://lh3.googleusercontent.com/a/default-user=s64",
      "userId": "07356988799973131543"
     },
     "user_tz": 480
    },
    "id": "N-Jk-KZJGDVv",
    "outputId": "e7bb3cfc-42e6-4225-889a-16424cce2083"
   },
   "outputs": [
    {
     "name": "stdout",
     "output_type": "stream",
     "text": [
      "TfIidf F1 score of  0.7597662427853104\n",
      "\n",
      "Correct label is  talk.religion.misc\n",
      "Predicted label is  comp.graphics\n",
      "R Value is  929.3571373334202\n",
      "Document:  I am pleased to announce that a *revised version* of _The Easy-to-Read Book\n",
      "of Mormon_ (former title: _Mormon's Book_) by Lynn Matthews Anderson is now\n",
      "available through anonymous ftp (see information below). In addition to the\n",
      "change in title, the revised ETR BOM has been shortened by several pages\n",
      "(eliminating many extraneous \"that's\" and \"of's\"), and many (minor) errors\n",
      "have been corrected. This release includes a simplified Joseph Smith Story,\n",
      "testimonies of the three and eight witnesses, and a \"Words-to-Know\"\n",
      "glossary.\n",
      "\n",
      "As with the previous announcement, readers are reminded that this is a\n",
      "not-for-profit endeavor. This is a copyrighted work, but people are welcome\n",
      "to make *verbatim* copies for personal use. People can recuperate the\n",
      "actual costs of printing (paper, copy center charges), but may not charge\n",
      "anything for their time in making copies, or in any way realize a profit\n",
      "from the use of this book. See the permissions notice in the book itself\n",
      "for the precise terms.\n",
      "\n",
      "Negotiations are currently underway with a Mormon publisher vis-a-vis the\n",
      "printing and distribution of bound books. (Sorry, I'm out of the wire-bound\n",
      "\"first editions.\") I will make another announcement about the availability\n",
      "of printed copies once everything has been worked out.\n",
      "\n",
      "FTP information: connect via anonymous ftp to carnot.itc.cmu.edu, then \"cd\n",
      "pub\" (you won't see anything at all until you do).\n",
      "\n",
      "\"The Easy-to-Read Book of Mormon\" is currently available in postscript and\n",
      "RTF (rich text format). (ASCII, LaTeX, and other versions can be made\n",
      "available; contact dba@andrew.cmu.edu for details.) You should be able to\n",
      "print the postscript file on any postscript printer (such as an Apple\n",
      "Laserwriter); let dba know if you have any difficulties. (The postscript in\n",
      "the last release had problems on some printers; this time it should work\n",
      "better.) RTF is a standard document interchange format that can be read in\n",
      "by a number of word processors, including Microsoft Word for both the\n",
      "Macintosh and Windows. If you don't have a postscript printer, you may be\n",
      "able to use the RTF file to print out a copy of the book.\n",
      "\n",
      "-r--r--r--  1 dba                   1984742 Apr 27 13:12 etrbom.ps\n",
      "-r--r--r--  1 dba                   1209071 Apr 27 13:13 etrbom.rtf\n",
      "\n",
      "For more information about how this project came about, please refer to my\n",
      "article in the current issue of _Sunstone_, entitled \"Delighting in\n",
      "Plainness: Issues Surrounding a Simple Modern English Book of Mormon.\"\n",
      "\n",
      "Send all inquiries and comments to:\n",
      "\n",
      "    Lynn Matthews Anderson\n",
      "    5806 Hampton Street\n",
      "    Pittsburgh, PA 15206\n",
      "\n",
      "Correct label is  talk.religion.misc\n",
      "Predicted label is  comp.graphics\n",
      "R Value is  325.0038462992751\n",
      "Document:  Can anyone provide me a ftp site where I can obtain a online version\n",
      "of the Book of Mormon. Please email the internet address if possible.\n",
      "\n",
      "Correct label is  alt.atheism\n",
      "Predicted label is  talk.religion.misc\n",
      "R Value is  287.3072077917014\n",
      "Document:  \n",
      "The 24 children were, of course, killed by a lone gunman in a second story\n",
      "window, who fired eight bullets in the space of two seconds...\n",
      "\n",
      "\n"
     ]
    }
   ],
   "source": [
    "def newvec():\n",
    "  vec1 = TfidfVectorizer()\n",
    "  xtrain = vec1.fit_transform(train_data)\n",
    "  dev = vec1.transform(dev_data)\n",
    "  \n",
    "  model = LogisticRegression(C=100, solver='liblinear', multi_class='auto')\n",
    "  model.fit(xtrain, train_labels)\n",
    "  \n",
    "  ypred = model.predict(dev)\n",
    "  probs = model.predict_proba(dev)\n",
    "  print('TfIidf F1 score of ', metrics.f1_score(dev_labels, ypred, average='weighted'))\n",
    "  print()\n",
    "\n",
    "  rratio = []\n",
    "  for i in range(dev.shape[0]):\n",
    "    rratio.append(probs[i, ypred[i]]/probs[i, dev_labels[i]])\n",
    "  rratio = np.asarray(rratio)\n",
    "  rratio_small = (np.argsort(rratio))[-3:][::-1]\n",
    "  \n",
    "  for j in rratio_small:\n",
    "    print(\"Correct label is \", newsgroups_train.target_names[dev_labels[j]])\n",
    "    print(\"Predicted label is \", newsgroups_train.target_names[ypred[j]])\n",
    "    print(\"R Value is \", rratio[j])\n",
    "    print(\"Document: \", dev_data[j])\n",
    "    print()\n",
    "\n",
    "newvec()"
   ]
  },
  {
   "cell_type": "markdown",
   "metadata": {
    "id": "IqovmLO5OzWu"
   },
   "source": [
    "1. Count vectorizer counts the number of times a word occurs across all the training examples.\n",
    "On the other hand Tf-Idf is broken down into two parts. The Tf (term frequency) shows how the count of a word's appearance divided by the total number of words. The Idf (inverse document frequency) takes the log of the number of documents the word has appeared in divided by the total number of documents. \n",
    "In essence, the Tf-Idf is kind of like a weighted average for the words and adjusts weights according to how frequently they appear. \n",
    "\n",
    "3. The R-ratio shows the model's probability associated with the predicted label divided by the probability associated with the true label. The purpose here is to see the magnitude of discrepancy in terms of how far off the model was in its prediction.\n",
    "\n",
    "4. Many documents (like the one misclassifed above) use typically computer content associated language in their text. This leads to confusion between the comp.graphics topic and the talk.religion.misc topic. A possible way to mitigate this is to place higher emphasis on the religion based words which may not occur so frequently. This could be done by introducing words to flag.\n"
   ]
  },
  {
   "cell_type": "code",
   "execution_count": null,
   "metadata": {
    "id": "JOB7TE5kGfzd"
   },
   "outputs": [],
   "source": []
  }
 ],
 "metadata": {
  "colab": {
   "authorship_tag": "ABX9TyPyFf8KTOjfiqgNZ1oNlB/r",
   "collapsed_sections": [],
   "name": "Project 3 w207.ipynb",
   "provenance": []
  },
  "kernelspec": {
   "display_name": "Python 3 (ipykernel)",
   "language": "python",
   "name": "python3"
  },
  "language_info": {
   "codemirror_mode": {
    "name": "ipython",
    "version": 3
   },
   "file_extension": ".py",
   "mimetype": "text/x-python",
   "name": "python",
   "nbconvert_exporter": "python",
   "pygments_lexer": "ipython3",
   "version": "3.8.8"
  }
 },
 "nbformat": 4,
 "nbformat_minor": 1
}
